{
 "cells": [
  {
   "cell_type": "code",
   "execution_count": 1,
   "id": "5e291b1e",
   "metadata": {},
   "outputs": [],
   "source": [
    "import pyspark\n",
    "from pyspark.sql import SparkSession\n",
    "import os"
   ]
  },
  {
   "cell_type": "code",
   "execution_count": 3,
   "id": "40940ea0",
   "metadata": {},
   "outputs": [
    {
     "name": "stdout",
     "output_type": "stream",
     "text": [
      "http://storage:9000\n",
      "http://catalog:8181\n",
      "s3a://datalakehouse\n"
     ]
    }
   ],
   "source": [
    "## DEFINE SENSITIVE VARIABLES\n",
    "CATALOG_URI = \"http://catalog:8181\" \n",
    "WAREHOUSE = \"s3a://datalakehouse\" ## BUCKET TO WRITE DATA TOO\n",
    "AWS_ACCESS_KEY = os.environ.get(\"AWS_ACCESS_KEY\", \"admin\") ## AWS CREDENTIALS\n",
    "AWS_SECRET_KEY = os.environ.get(\"AWS_SECRET_KEY\", \"password\") ## AWS CREDENTIALS\n",
    "AWS_S3_ENDPOINT= os.environ.get(\"AWS_S3_ENDPOINT\", 'http://storage:9000') ## MINIO ENDPOINT\n",
    "\n",
    "\n",
    "print(AWS_S3_ENDPOINT)\n",
    "print(CATALOG_URI)\n",
    "print(WAREHOUSE)"
   ]
  },
  {
   "cell_type": "code",
   "execution_count": null,
   "id": "bb5f9b47",
   "metadata": {},
   "outputs": [],
   "source": [
    "./bin/spark-sql \\\n",
    "--conf spark.sql.extensions=org.apache.iceberg.spark.extensions.IcebergSparkSessionExtensions \\\n",
    "--conf spark.sql.catalog.sandbox=org.apache.iceberg.spark.SparkCatalog \\\n",
    "--conf spark.sql.catalog.sandbox.type=rest \\\n",
    "--conf spark.sql.catalog.sandbox.uri=https://api.www.tabular.io/ws \\\n",
    "--conf spark.sql.catalog.sandbox.credential=env:REST_CREDENTIAL \\\n",
    "--conf spark.sql.catalog.sandbox.warehouse=sandbox \\\n",
    "--conf spark.sql.catalog.sandbox.default-namespace=examples \\\n",
    "--conf spark.sql.defaultCatalog=sandbox"
   ]
  },
  {
   "cell_type": "code",
   "execution_count": 4,
   "id": "ebfca5c8",
   "metadata": {},
   "outputs": [
    {
     "name": "stdout",
     "output_type": "stream",
     "text": [
      ":: loading settings :: url = jar:file:/home/docker/.local/lib/python3.10/site-packages/pyspark/jars/ivy-2.5.0.jar!/org/apache/ivy/core/settings/ivysettings.xml\n"
     ]
    },
    {
     "name": "stderr",
     "output_type": "stream",
     "text": [
      "Ivy Default Cache set to: /home/docker/.ivy2/cache\n",
      "The jars for the packages stored in: /home/docker/.ivy2/jars\n",
      "org.apache.iceberg#iceberg-spark-runtime-3.3_2.12 added as a dependency\n",
      "software.amazon.awssdk#bundle added as a dependency\n",
      "software.amazon.awssdk#url-connection-client added as a dependency\n",
      ":: resolving dependencies :: org.apache.spark#spark-submit-parent-1f5127f2-6a0d-4c42-94d3-8f5e82e2a3bb;1.0\n",
      "\tconfs: [default]\n",
      "\tfound org.apache.iceberg#iceberg-spark-runtime-3.3_2.12;1.5.2 in central\n",
      "\tfound software.amazon.awssdk#bundle;2.28.28 in central\n",
      "\tfound software.amazon.awssdk#url-connection-client;2.28.28 in central\n",
      "\tfound software.amazon.awssdk#utils;2.28.28 in central\n",
      "\tfound org.reactivestreams#reactive-streams;1.0.4 in central\n",
      "\tfound software.amazon.awssdk#annotations;2.28.28 in central\n",
      "\tfound org.slf4j#slf4j-api;1.7.36 in central\n",
      "\tfound software.amazon.awssdk#http-client-spi;2.28.28 in central\n",
      "\tfound software.amazon.awssdk#metrics-spi;2.28.28 in central\n",
      "downloading https://repo1.maven.org/maven2/org/apache/iceberg/iceberg-spark-runtime-3.3_2.12/1.5.2/iceberg-spark-runtime-3.3_2.12-1.5.2.jar ...\n",
      "\t[SUCCESSFUL ] org.apache.iceberg#iceberg-spark-runtime-3.3_2.12;1.5.2!iceberg-spark-runtime-3.3_2.12.jar (4271ms)\n",
      "downloading https://repo1.maven.org/maven2/software/amazon/awssdk/bundle/2.28.28/bundle-2.28.28.jar ...\n",
      "\t[SUCCESSFUL ] software.amazon.awssdk#bundle;2.28.28!bundle.jar (65890ms)\n",
      "downloading https://repo1.maven.org/maven2/software/amazon/awssdk/url-connection-client/2.28.28/url-connection-client-2.28.28.jar ...\n",
      "\t[SUCCESSFUL ] software.amazon.awssdk#url-connection-client;2.28.28!url-connection-client.jar (465ms)\n",
      "downloading https://repo1.maven.org/maven2/software/amazon/awssdk/utils/2.28.28/utils-2.28.28.jar ...\n",
      "\t[SUCCESSFUL ] software.amazon.awssdk#utils;2.28.28!utils.jar (3478ms)\n",
      "downloading https://repo1.maven.org/maven2/software/amazon/awssdk/annotations/2.28.28/annotations-2.28.28.jar ...\n",
      "\t[SUCCESSFUL ] software.amazon.awssdk#annotations;2.28.28!annotations.jar (404ms)\n",
      "downloading https://repo1.maven.org/maven2/software/amazon/awssdk/http-client-spi/2.28.28/http-client-spi-2.28.28.jar ...\n",
      "\t[SUCCESSFUL ] software.amazon.awssdk#http-client-spi;2.28.28!http-client-spi.jar (406ms)\n",
      "downloading https://repo1.maven.org/maven2/org/reactivestreams/reactive-streams/1.0.4/reactive-streams-1.0.4.jar ...\n",
      "\t[SUCCESSFUL ] org.reactivestreams#reactive-streams;1.0.4!reactive-streams.jar (404ms)\n",
      "downloading https://repo1.maven.org/maven2/org/slf4j/slf4j-api/1.7.36/slf4j-api-1.7.36.jar ...\n",
      "\t[SUCCESSFUL ] org.slf4j#slf4j-api;1.7.36!slf4j-api.jar (356ms)\n",
      "downloading https://repo1.maven.org/maven2/software/amazon/awssdk/metrics-spi/2.28.28/metrics-spi-2.28.28.jar ...\n",
      "\t[SUCCESSFUL ] software.amazon.awssdk#metrics-spi;2.28.28!metrics-spi.jar (457ms)\n",
      ":: resolution report :: resolve 15042ms :: artifacts dl 76165ms\n",
      "\t:: modules in use:\n",
      "\torg.apache.iceberg#iceberg-spark-runtime-3.3_2.12;1.5.2 from central in [default]\n",
      "\torg.reactivestreams#reactive-streams;1.0.4 from central in [default]\n",
      "\torg.slf4j#slf4j-api;1.7.36 from central in [default]\n",
      "\tsoftware.amazon.awssdk#annotations;2.28.28 from central in [default]\n",
      "\tsoftware.amazon.awssdk#bundle;2.28.28 from central in [default]\n",
      "\tsoftware.amazon.awssdk#http-client-spi;2.28.28 from central in [default]\n",
      "\tsoftware.amazon.awssdk#metrics-spi;2.28.28 from central in [default]\n",
      "\tsoftware.amazon.awssdk#url-connection-client;2.28.28 from central in [default]\n",
      "\tsoftware.amazon.awssdk#utils;2.28.28 from central in [default]\n",
      "\t---------------------------------------------------------------------\n",
      "\t|                  |            modules            ||   artifacts   |\n",
      "\t|       conf       | number| search|dwnlded|evicted|| number|dwnlded|\n",
      "\t---------------------------------------------------------------------\n",
      "\t|      default     |   9   |   9   |   9   |   0   ||   9   |   9   |\n",
      "\t---------------------------------------------------------------------\n",
      ":: retrieving :: org.apache.spark#spark-submit-parent-1f5127f2-6a0d-4c42-94d3-8f5e82e2a3bb\n",
      "\tconfs: [default]\n",
      "\t9 artifacts copied, 0 already retrieved (617041kB/318ms)\n"
     ]
    },
    {
     "name": "stdout",
     "output_type": "stream",
     "text": [
      "24/11/07 15:23:51 WARN NativeCodeLoader: Unable to load native-hadoop library for your platform... using builtin-java classes where applicable\n"
     ]
    },
    {
     "name": "stderr",
     "output_type": "stream",
     "text": [
      "Setting default log level to \"WARN\".\n",
      "To adjust logging level use sc.setLogLevel(newLevel). For SparkR, use setLogLevel(newLevel).\n"
     ]
    },
    {
     "name": "stdout",
     "output_type": "stream",
     "text": [
      "Spark Running\n"
     ]
    }
   ],
   "source": [
    "conf = (\n",
    "    pyspark.SparkConf()\n",
    "        .setAppName('app_name')\n",
    "        .set('spark.jars.packages', 'org.apache.iceberg:iceberg-spark-runtime-3.3_2.12:1.5.2,software.amazon.awssdk:bundle:2.28.28,software.amazon.awssdk:url-connection-client:2.28.28')\n",
    "        .set('spark.sql.extensions', 'org.apache.iceberg.spark.extensions.IcebergSparkSessionExtensions')\n",
    "        .set('spark.sql.catalog.lakehouse', 'org.apache.iceberg.spark.SparkCatalog')\n",
    "        .set('spark.sql.catalog.lakehouse.type', 'rest')\n",
    "        .set('spark.sql.catalog.lakehouse.uri', CATALOG_URI)\n",
    "        .set('spark.sql.catalog.lakehouse.authentication.type', 'NONE')\n",
    "        .set('spark.sql.catalog.lakehouse.s3.endpoint', AWS_S3_ENDPOINT)\n",
    "        .set('spark.sql.catalog.lakehouse.warehouse', WAREHOUSE)\n",
    "        .set('spark.sql.catalog.lakehouse.io-impl', 'org.apache.iceberg.aws.s3.S3FileIO')\n",
    "        .set('spark.hadoop.fs.s3a.access.key', AWS_ACCESS_KEY)\n",
    "        .set('spark.hadoop.fs.s3a.secret.key', AWS_SECRET_KEY)\n",
    ")\n",
    "\n",
    "\n",
    "## Start Spark Session\n",
    "spark = SparkSession.builder.config(conf=conf).getOrCreate()\n",
    "print(\"Spark Running\")"
   ]
  },
  {
   "cell_type": "code",
   "execution_count": 14,
   "id": "b35fb1f3",
   "metadata": {},
   "outputs": [
    {
     "data": {
      "text/plain": [
       "DataFrame[]"
      ]
     },
     "execution_count": 14,
     "metadata": {},
     "output_type": "execute_result"
    }
   ],
   "source": [
    "spark.sql(\"USE lakehouse\")"
   ]
  },
  {
   "cell_type": "code",
   "execution_count": 15,
   "id": "3ef01d3a",
   "metadata": {},
   "outputs": [
    {
     "name": "stdout",
     "output_type": "stream",
     "text": [
      "+---------+\n",
      "|namespace|\n",
      "+---------+\n",
      "|companies|\n",
      "|pruebita |\n",
      "+---------+\n",
      "\n"
     ]
    }
   ],
   "source": [
    "spark.sql(\"SHOW SCHEMAS\").show(truncate=False)"
   ]
  },
  {
   "cell_type": "code",
   "execution_count": 17,
   "id": "642e2ed3",
   "metadata": {},
   "outputs": [
    {
     "name": "stdout",
     "output_type": "stream",
     "text": [
      "+---------+---------+-----------+\n",
      "|namespace|tableName|isTemporary|\n",
      "+---------+---------+-----------+\n",
      "|companies|personas |false      |\n",
      "+---------+---------+-----------+\n",
      "\n"
     ]
    }
   ],
   "source": [
    "spark.sql(\"SHOW TABLES FROM companies\").show(truncate=False)"
   ]
  },
  {
   "cell_type": "code",
   "execution_count": 21,
   "id": "d3a58766",
   "metadata": {},
   "outputs": [
    {
     "name": "stdout",
     "output_type": "stream",
     "text": [
      "+---+----+\n",
      "|id |name|\n",
      "+---+----+\n",
      "+---+----+\n",
      "\n"
     ]
    }
   ],
   "source": [
    "spark.sql(\"SELECT * FROM companies.personas\").show(truncate=False)"
   ]
  }
 ],
 "metadata": {
  "kernelspec": {
   "display_name": "Python 3 (ipykernel)",
   "language": "python",
   "name": "python3"
  },
  "language_info": {
   "codemirror_mode": {
    "name": "ipython",
    "version": 3
   },
   "file_extension": ".py",
   "mimetype": "text/x-python",
   "name": "python",
   "nbconvert_exporter": "python",
   "pygments_lexer": "ipython3",
   "version": "3.10.6"
  }
 },
 "nbformat": 4,
 "nbformat_minor": 5
}
