{
 "cells": [
  {
   "cell_type": "code",
   "execution_count": 1,
   "id": "5e291b1e",
   "metadata": {},
   "outputs": [],
   "source": [
    "import pyspark\n",
    "from pyspark.sql import SparkSession\n",
    "import os"
   ]
  },
  {
   "cell_type": "code",
   "execution_count": 2,
   "id": "40940ea0",
   "metadata": {},
   "outputs": [
    {
     "name": "stdout",
     "output_type": "stream",
     "text": [
      "http://storage:9000\n",
      "http://catalog:8181\n",
      "s3a://datalakehouse\n"
     ]
    }
   ],
   "source": [
    "## DEFINE SENSITIVE VARIABLES\n",
    "CATALOG_URI = \"http://catalog:8181\" \n",
    "WAREHOUSE = \"s3a://datalakehouse\" ## BUCKET TO WRITE DATA TOO\n",
    "AWS_ACCESS_KEY = os.environ.get(\"AWS_ACCESS_KEY\", \"admin\") ## AWS CREDENTIALS\n",
    "AWS_SECRET_KEY = os.environ.get(\"AWS_SECRET_KEY\", \"password\") ## AWS CREDENTIALS\n",
    "AWS_S3_ENDPOINT= os.environ.get(\"AWS_S3_ENDPOINT\", 'http://storage:9000') ## MINIO ENDPOINT\n",
    "\n",
    "\n",
    "print(AWS_S3_ENDPOINT)\n",
    "print(CATALOG_URI)\n",
    "print(WAREHOUSE)"
   ]
  },
  {
   "cell_type": "code",
   "execution_count": 3,
   "id": "c2cebff7",
   "metadata": {},
   "outputs": [
    {
     "name": "stdout",
     "output_type": "stream",
     "text": [
      ":: loading settings :: url = jar:file:/home/docker/.local/lib/python3.10/site-packages/pyspark/jars/ivy-2.5.0.jar!/org/apache/ivy/core/settings/ivysettings.xml\n"
     ]
    },
    {
     "name": "stderr",
     "output_type": "stream",
     "text": [
      "Ivy Default Cache set to: /home/docker/.ivy2/cache\n",
      "The jars for the packages stored in: /home/docker/.ivy2/jars\n",
      "org.apache.iceberg#iceberg-spark-runtime-3.3_2.12 added as a dependency\n",
      "software.amazon.awssdk#bundle added as a dependency\n",
      "software.amazon.awssdk#url-connection-client added as a dependency\n",
      ":: resolving dependencies :: org.apache.spark#spark-submit-parent-c1ff9a10-e379-40a2-b59d-bf38fc4b652f;1.0\n",
      "\tconfs: [default]\n",
      "\tfound org.apache.iceberg#iceberg-spark-runtime-3.3_2.12;1.5.2 in central\n",
      "\tfound software.amazon.awssdk#bundle;2.28.28 in central\n",
      "\tfound software.amazon.awssdk#url-connection-client;2.28.28 in central\n",
      "\tfound software.amazon.awssdk#utils;2.28.28 in central\n",
      "\tfound org.reactivestreams#reactive-streams;1.0.4 in central\n",
      "\tfound software.amazon.awssdk#annotations;2.28.28 in central\n",
      "\tfound org.slf4j#slf4j-api;1.7.36 in central\n",
      "\tfound software.amazon.awssdk#http-client-spi;2.28.28 in central\n",
      "\tfound software.amazon.awssdk#metrics-spi;2.28.28 in central\n",
      ":: resolution report :: resolve 659ms :: artifacts dl 17ms\n",
      "\t:: modules in use:\n",
      "\torg.apache.iceberg#iceberg-spark-runtime-3.3_2.12;1.5.2 from central in [default]\n",
      "\torg.reactivestreams#reactive-streams;1.0.4 from central in [default]\n",
      "\torg.slf4j#slf4j-api;1.7.36 from central in [default]\n",
      "\tsoftware.amazon.awssdk#annotations;2.28.28 from central in [default]\n",
      "\tsoftware.amazon.awssdk#bundle;2.28.28 from central in [default]\n",
      "\tsoftware.amazon.awssdk#http-client-spi;2.28.28 from central in [default]\n",
      "\tsoftware.amazon.awssdk#metrics-spi;2.28.28 from central in [default]\n",
      "\tsoftware.amazon.awssdk#url-connection-client;2.28.28 from central in [default]\n",
      "\tsoftware.amazon.awssdk#utils;2.28.28 from central in [default]\n",
      "\t---------------------------------------------------------------------\n",
      "\t|                  |            modules            ||   artifacts   |\n",
      "\t|       conf       | number| search|dwnlded|evicted|| number|dwnlded|\n",
      "\t---------------------------------------------------------------------\n",
      "\t|      default     |   9   |   0   |   0   |   0   ||   9   |   0   |\n",
      "\t---------------------------------------------------------------------\n",
      ":: retrieving :: org.apache.spark#spark-submit-parent-c1ff9a10-e379-40a2-b59d-bf38fc4b652f\n",
      "\tconfs: [default]\n",
      "\t0 artifacts copied, 9 already retrieved (0kB/11ms)\n"
     ]
    },
    {
     "name": "stdout",
     "output_type": "stream",
     "text": [
      "24/11/08 23:14:04 WARN NativeCodeLoader: Unable to load native-hadoop library for your platform... using builtin-java classes where applicable\n"
     ]
    },
    {
     "name": "stderr",
     "output_type": "stream",
     "text": [
      "Setting default log level to \"WARN\".\n",
      "To adjust logging level use sc.setLogLevel(newLevel). For SparkR, use setLogLevel(newLevel).\n"
     ]
    },
    {
     "name": "stdout",
     "output_type": "stream",
     "text": [
      "Spark Running\n"
     ]
    }
   ],
   "source": [
    "conf = (\n",
    "    pyspark.SparkConf()\n",
    "        .setAppName('app_name')\n",
    "        .set('spark.jars.packages', 'org.apache.iceberg:iceberg-spark-runtime-3.3_2.12:1.5.2,software.amazon.awssdk:bundle:2.28.28,software.amazon.awssdk:url-connection-client:2.28.28')\n",
    "        .set('spark.sql.extensions', 'org.apache.iceberg.spark.extensions.IcebergSparkSessionExtensions')\n",
    "        .set('spark.sql.catalog.notebok_catalog', 'org.apache.iceberg.spark.SparkCatalog')\n",
    "        .set('spark.sql.catalog.notebok_catalog.type', 'rest')\n",
    "        .set('spark.sql.catalog.notebok_catalog.uri', CATALOG_URI)\n",
    "        .set('spark.sql.catalog.notebok_catalog.authentication.type', 'NONE')\n",
    "        .set('spark.sql.catalog.notebok_catalog.s3.endpoint', AWS_S3_ENDPOINT)\n",
    "        .set('spark.sql.catalog.notebok_catalog.warehouse', WAREHOUSE)\n",
    "        .set('spark.sql.catalog.notebok_catalog.io-impl', 'org.apache.iceberg.aws.s3.S3FileIO')\n",
    "        .set('spark.hadoop.fs.s3a.access.key', AWS_ACCESS_KEY)\n",
    "        .set('spark.hadoop.fs.s3a.secret.key', AWS_SECRET_KEY)\n",
    ")\n",
    "\n",
    "\n",
    "## Start Spark Session\n",
    "spark = SparkSession.builder.config(conf=conf).getOrCreate()\n",
    "print(\"Spark Running\")"
   ]
  },
  {
   "cell_type": "code",
   "execution_count": 10,
   "id": "3ef01d3a",
   "metadata": {},
   "outputs": [
    {
     "name": "stdout",
     "output_type": "stream",
     "text": [
      "++\n",
      "||\n",
      "++\n",
      "++\n",
      "\n"
     ]
    }
   ],
   "source": [
    "spark.sql(\"USE notebok_catalog\").show()"
   ]
  },
  {
   "cell_type": "code",
   "execution_count": 11,
   "id": "67eabe08",
   "metadata": {},
   "outputs": [
    {
     "name": "stdout",
     "output_type": "stream",
     "text": [
      "+---------+\n",
      "|namespace|\n",
      "+---------+\n",
      "|lakehouse|\n",
      "+---------+\n",
      "\n"
     ]
    }
   ],
   "source": [
    "spark.sql(\"SHOW SCHEMAS\").show(truncate=False)"
   ]
  },
  {
   "cell_type": "code",
   "execution_count": 13,
   "id": "d48f59c4",
   "metadata": {},
   "outputs": [
    {
     "name": "stderr",
     "output_type": "stream",
     "text": [
      "\r",
      "[Stage 1:>                                                          (0 + 1) / 1]\r"
     ]
    },
    {
     "name": "stdout",
     "output_type": "stream",
     "text": [
      "+--------------+--------+-------------+---------+-----------+--------+------------+\n",
      "|player_name   |rank    |main_champion|main_role|average_kda|win_rate|games_played|\n",
      "+--------------+--------+-------------+---------+-----------+--------+------------+\n",
      "|ArcaneMage    |Silver  |Veigar       |Mid      |3.2        |47      |70          |\n",
      "|StormBreaker  |Gold    |Olaf         |Top      |2.8        |52      |84          |\n",
      "|MysticArrow   |Gold    |Varus        |ADC      |3.1        |52      |88          |\n",
      "|OceanReaper   |Diamond |Nami         |Support  |3.6        |59      |134         |\n",
      "|SpellCaster   |Silver  |Lux          |Mid      |3.0        |47      |69          |\n",
      "|SteelBlade    |Diamond |Fiora        |Top      |3.7        |58      |126         |\n",
      "|JungleMaster  |Bronze  |Warwick      |Jungle   |2.3        |44      |40          |\n",
      "|RogueAssassin |Diamond |Kha'Zix      |Jungle   |4.0        |59      |140         |\n",
      "|RageFury      |Diamond |Draven       |ADC      |3.9        |60      |140         |\n",
      "|DragonKnight  |Gold    |Jax          |Top      |2.7        |51      |86          |\n",
      "|GhostBlade    |Gold    |Kayle        |Top      |3.1        |52      |87          |\n",
      "|Nightmare     |Gold    |Leona        |Support  |3.6        |52      |83          |\n",
      "|WildBeast     |Platinum|Volibear     |Top      |3.3        |54      |113         |\n",
      "|ShadowAssassin|Platinum|Zoe          |Mid      |4.0        |54      |109         |\n",
      "|BladeDancer   |Gold    |Yasuo        |Mid      |3.8        |55      |90          |\n",
      "|RavenStorm    |Gold    |Morgana      |Support  |3.3        |51      |86          |\n",
      "|PhoenixHunter |Diamond |Evelynn      |Jungle   |4.2        |60      |135         |\n",
      "|BladeMaster   |Bronze  |Darius       |Top      |2.1        |46      |42          |\n",
      "|RogueMage     |Gold    |Ziggs        |Mid      |3.5        |52      |82          |\n",
      "|BladeRunner   |Platinum|Graves       |Jungle   |3.9        |54      |118         |\n",
      "+--------------+--------+-------------+---------+-----------+--------+------------+\n",
      "only showing top 20 rows\n",
      "\n"
     ]
    },
    {
     "name": "stderr",
     "output_type": "stream",
     "text": [
      "\r",
      "                                                                                \r"
     ]
    }
   ],
   "source": [
    "spark.sql(\"SELECT * FROM lakehouse.lol_statistics\").show(truncate=False)"
   ]
  },
  {
   "cell_type": "code",
   "execution_count": 18,
   "id": "4c004a66",
   "metadata": {},
   "outputs": [
    {
     "name": "stderr",
     "output_type": "stream",
     "text": [
      "[Stage 11:==============>                                           (1 + 3) / 4]\r"
     ]
    },
    {
     "name": "stdout",
     "output_type": "stream",
     "text": [
      "+---------+--------------------------+\n",
      "|main_role|number_of_players_per_role|\n",
      "+---------+--------------------------+\n",
      "|ADC      |17                        |\n",
      "|Jungle   |16                        |\n",
      "|Mid      |27                        |\n",
      "|Support  |26                        |\n",
      "|Top      |23                        |\n",
      "+---------+--------------------------+\n",
      "\n"
     ]
    },
    {
     "name": "stderr",
     "output_type": "stream",
     "text": [
      "\r",
      "                                                                                \r"
     ]
    }
   ],
   "source": [
    "spark.sql(\"\"\"\n",
    "select main_role, count(*) as number_of_players_per_role\n",
    "from lakehouse.lol_statistics\n",
    "group by main_role\n",
    "order by main_role asc\n",
    "\"\"\").show(truncate=False)"
   ]
  },
  {
   "cell_type": "code",
   "execution_count": 19,
   "id": "e10c3e81",
   "metadata": {},
   "outputs": [],
   "source": [
    "df = spark.table(\"lakehouse.lol_statistics\")"
   ]
  },
  {
   "cell_type": "code",
   "execution_count": 28,
   "id": "bb3c65d9",
   "metadata": {},
   "outputs": [
    {
     "name": "stdout",
     "output_type": "stream",
     "text": [
      "+---------+--------+\n",
      "|main_role|win_rate|\n",
      "+---------+--------+\n",
      "|   Jungle|      59|\n",
      "|      Mid|      58|\n",
      "|   Jungle|      60|\n",
      "|   Jungle|      60|\n",
      "|  Support|      58|\n",
      "|      Top|      58|\n",
      "|      ADC|      57|\n",
      "|   Jungle|      59|\n",
      "|      Top|      57|\n",
      "|      Mid|      58|\n",
      "|      ADC|      60|\n",
      "|  Support|      59|\n",
      "|  Support|      58|\n",
      "|   Jungle|      59|\n",
      "|      ADC|      57|\n",
      "|      ADC|      58|\n",
      "|   Jungle|      60|\n",
      "|      Mid|      59|\n",
      "|      Mid|      57|\n",
      "|   Jungle|      59|\n",
      "+---------+--------+\n",
      "only showing top 20 rows\n",
      "\n"
     ]
    }
   ],
   "source": [
    "df.filter(\"rank='Diamond'\").select(\"main_role\",\"win_rate\").show()"
   ]
  }
 ],
 "metadata": {
  "kernelspec": {
   "display_name": "Python 3 (ipykernel)",
   "language": "python",
   "name": "python3"
  },
  "language_info": {
   "codemirror_mode": {
    "name": "ipython",
    "version": 3
   },
   "file_extension": ".py",
   "mimetype": "text/x-python",
   "name": "python",
   "nbconvert_exporter": "python",
   "pygments_lexer": "ipython3",
   "version": "3.10.6"
  }
 },
 "nbformat": 4,
 "nbformat_minor": 5
}
